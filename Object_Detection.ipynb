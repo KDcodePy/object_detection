{
 "cells": [
  {
   "cell_type": "markdown",
   "metadata": {},
   "source": [
    "# Object Detection with YOLOV5"
   ]
  },
  {
   "cell_type": "markdown",
   "metadata": {},
   "source": [
    "## Install and Import Dependencies"
   ]
  },
  {
   "cell_type": "code",
   "execution_count": 1,
   "metadata": {},
   "outputs": [],
   "source": [
    "#!pip install torch torchvision torchaudio --index-url https://download.pytorch.org/whl/cu118"
   ]
  },
  {
   "cell_type": "code",
   "execution_count": 2,
   "metadata": {},
   "outputs": [],
   "source": [
    "#!git clone https://github.com/ultralytics/yolov5"
   ]
  },
  {
   "cell_type": "code",
   "execution_count": 3,
   "metadata": {},
   "outputs": [],
   "source": [
    "import torch\n",
    "from matplotlib import pyplot as plt  \n",
    "import numpy as np\n",
    "import cv2 as cv\n",
    "import uuid\n",
    "import os\n",
    "import time\n",
    "import json\n",
    "import pandas as pd\n",
    "import numpy as np"
   ]
  },
  {
   "cell_type": "markdown",
   "metadata": {},
   "source": [
    "## Twilio Setup"
   ]
  },
  {
   "cell_type": "code",
   "execution_count": 4,
   "metadata": {},
   "outputs": [
    {
     "data": {
      "text/plain": [
       "dict_keys(['client-id', 'Auth-Token'])"
      ]
     },
     "execution_count": 4,
     "metadata": {},
     "output_type": "execute_result"
    }
   ],
   "source": [
    "with open(r\"C:\\Users\\kdelfino\\.secret\\twilio_creds.json\", \"r\") as f:\n",
    "    login = json.load(f)\n",
    "\n",
    "# Display loaded dict \n",
    "login.keys()"
   ]
  },
  {
   "cell_type": "code",
   "execution_count": 5,
   "metadata": {},
   "outputs": [],
   "source": [
    "from twilio.rest import Client\n",
    "\n",
    "account_sid = login['client-id']\n",
    "auth_token = login['Auth-Token']\n",
    "client = Client(account_sid, auth_token)\n",
    "\n"
   ]
  },
  {
   "cell_type": "markdown",
   "metadata": {},
   "source": [
    "## Training The Model"
   ]
  },
  {
   "cell_type": "code",
   "execution_count": 6,
   "metadata": {},
   "outputs": [
    {
     "data": {
      "text/plain": [
       "['images', 'labels', 'labels.cache', 'labels.cache.npy', 'video']"
      ]
     },
     "execution_count": 6,
     "metadata": {},
     "output_type": "execute_result"
    }
   ],
   "source": [
    "# example making new folder with os\n",
    "os.makedirs('Data/',exist_ok=True) \n",
    "# Confirm folder created\n",
    "os.listdir(\"Data/\")"
   ]
  },
  {
   "cell_type": "code",
   "execution_count": 7,
   "metadata": {},
   "outputs": [],
   "source": [
    "IMAGES_PATH = r\"C:\\Users\\kdelfino\\Documents\\GitHub\\Object_Detection\\object_detection\\Data\\images\"\n",
    "labels = ['kim','bottle', 'drinking']\n",
    "img_count = 10"
   ]
  },
  {
   "cell_type": "code",
   "execution_count": 8,
   "metadata": {},
   "outputs": [
    {
     "data": {
      "text/plain": [
       "'C:\\\\Users\\\\kdelfino\\\\Documents\\\\GitHub\\\\Object_Detection\\\\object_detection\\\\Data\\\\images'"
      ]
     },
     "execution_count": 8,
     "metadata": {},
     "output_type": "execute_result"
    }
   ],
   "source": [
    "IMAGES_PATH"
   ]
  },
  {
   "cell_type": "code",
   "execution_count": 9,
   "metadata": {},
   "outputs": [],
   "source": [
    "cap = cv.VideoCapture(1)\n",
    "\n",
    "# Loop through labels\n",
    "for label in labels:\n",
    "    print(f'Collecting images for {label}')\n",
    "    time.sleep(5)\n",
    "\n",
    "    # Loop through image range\n",
    "    for count in range(img_count):\n",
    "        print(f'Collecting images for {label} #{count}')\n",
    "\n",
    "        # Webcam feed\n",
    "        ret, frame = cap.read()\n",
    "\n",
    "        # Naming out image path\n",
    "        imgname = os.path.join(IMAGES_PATH, label+'.'+str(uuid.uuid1())+'.jpg')\n",
    "\n",
    "        # Writes out image to file\n",
    "        cv.imwrite(imgname, frame)\n",
    "        \n",
    "        # Render to the screen\n",
    "        cv.imshow('Image Collection', frame)\n",
    "\n",
    "        # 2 sec delay between captures\n",
    "        time.sleep(2)\n",
    "\n",
    "        if cv.waitKey(10) & 0xFF == ord('q'):\n",
    "            break\n",
    "cap.release()\n",
    "cv.destroyAllWindows()\n",
    "        \n"
   ]
  },
  {
   "cell_type": "code",
   "execution_count": 10,
   "metadata": {},
   "outputs": [],
   "source": [
    "# for label in labels:\n",
    "#     print('Collecting images for {}'.format(label))\n",
    "#     for img_num in range(img_count):\n",
    "#         print('Collecting images for {}, image number {}'.format(label, img_num))\n",
    "#         imgname = os.path.join(IMAGES_PATH, label+'.'+str(uuid.uuid1())+'.jpg')\n",
    "#         print(imgname)   "
   ]
  },
  {
   "cell_type": "code",
   "execution_count": 11,
   "metadata": {},
   "outputs": [],
   "source": [
    "#!git clone https://github.com/tzutalin/labelImg"
   ]
  },
  {
   "cell_type": "code",
   "execution_count": 12,
   "metadata": {},
   "outputs": [],
   "source": [
    "# !pip install pyqt5 lxml --upgrade\n",
    "# !cd labelImg && pyrcc5 -o libs/resources.py resources.qrc"
   ]
  },
  {
   "cell_type": "code",
   "execution_count": 13,
   "metadata": {},
   "outputs": [],
   "source": [
    "# !cd yolov5 && python train.py --img 320 --batch 16 --epochs 500 --data dataset.yaml --weights yolov5s.pt --workers 2"
   ]
  },
  {
   "cell_type": "code",
   "execution_count": 14,
   "metadata": {},
   "outputs": [
    {
     "name": "stderr",
     "output_type": "stream",
     "text": [
      "Downloading: \"https://github.com/ultralytics/yolov5/zipball/master\" to C:\\Users\\kdelfino/.cache\\torch\\hub\\master.zip\n",
      "YOLOv5  2023-8-15 Python-3.9.15 torch-2.0.1+cpu CPU\n",
      "\n",
      "Fusing layers... \n",
      "Model summary: 157 layers, 7058671 parameters, 0 gradients, 15.9 GFLOPs\n",
      "Adding AutoShape... \n"
     ]
    }
   ],
   "source": [
    "model = torch.hub.load('ultralytics/yolov5', 'custom', path=r'C:\\Users\\kdelfino\\Documents\\GitHub\\Object_Detection\\object_detection\\yolov5\\runs\\train\\exp6\\weights\\last.pt', force_reload=True)"
   ]
  },
  {
   "cell_type": "code",
   "execution_count": 15,
   "metadata": {},
   "outputs": [],
   "source": [
    "vid = r\"Data\\video\\WIN_20230814_23_44_04_Pro.mp4\""
   ]
  },
  {
   "cell_type": "code",
   "execution_count": 25,
   "metadata": {},
   "outputs": [
    {
     "name": "stdout",
     "output_type": "stream",
     "text": [
      "SM10f09fb77936fe2127a43eb9d36d7940\n"
     ]
    }
   ],
   "source": [
    "cap = cv.VideoCapture(vid)\n",
    "# while cap.isOpened():\n",
    "waiting_sms = True\n",
    "while True:\n",
    "    ret, frame = cap.read()\n",
    "\n",
    "    results = model(frame)\n",
    "\n",
    "    cv.imshow('YOLO', np.squeeze(results.render()))\n",
    "    if cv.waitKey(10) & 0xFF == ord('q'):\n",
    "        break\n",
    "    if  results.pandas().xyxy[0].name.to_string().split(' ')[-1] == 'drinking':\n",
    "            if waiting_sms:\n",
    "                message = client.messages.create(\n",
    "                from_= #'TWIOLIO NUMBER',\n",
    "                body = 'Great work rehydrating! Next reminder will be in 30mins! ',\n",
    "                to= #'PHONE NUMBER'\n",
    "                )\n",
    "\n",
    "                print(message.sid)\n",
    "\n",
    "                waiting_sms = False\n",
    "\n",
    "    \n",
    "cap.release()\n",
    "cv.destroyAllWindows()\n"
   ]
  },
  {
   "cell_type": "code",
   "execution_count": 17,
   "metadata": {},
   "outputs": [],
   "source": [
    "img = r\"Data\\images\\drinking.e208e343-3b26-11ee-8280-701ab828e848.jpg\""
   ]
  },
  {
   "cell_type": "code",
   "execution_count": 18,
   "metadata": {},
   "outputs": [],
   "source": [
    "results = model(img)"
   ]
  },
  {
   "cell_type": "code",
   "execution_count": 19,
   "metadata": {},
   "outputs": [
    {
     "name": "stdout",
     "output_type": "stream",
     "text": [
      "image 1/1: 480x640 1 drinking\n",
      "Speed: 11.5ms pre-process, 108.9ms inference, 1.0ms NMS per image at shape (1, 3, 480, 640)\n"
     ]
    }
   ],
   "source": [
    "print(results)"
   ]
  }
 ],
 "metadata": {
  "kernelspec": {
   "display_name": "dojo-env",
   "language": "python",
   "name": "python3"
  },
  "language_info": {
   "codemirror_mode": {
    "name": "ipython",
    "version": 3
   },
   "file_extension": ".py",
   "mimetype": "text/x-python",
   "name": "python",
   "nbconvert_exporter": "python",
   "pygments_lexer": "ipython3",
   "version": "3.9.15"
  },
  "orig_nbformat": 4
 },
 "nbformat": 4,
 "nbformat_minor": 2
}

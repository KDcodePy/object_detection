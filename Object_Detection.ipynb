{
 "cells": [
  {
   "cell_type": "markdown",
   "metadata": {},
   "source": [
    "# Object Detection with YOLOV5"
   ]
  },
  {
   "cell_type": "markdown",
   "metadata": {},
   "source": [
    "## Install and Import Dependencies"
   ]
  },
  {
   "cell_type": "code",
   "execution_count": null,
   "metadata": {},
   "outputs": [],
   "source": [
    "#!pip install torch torchvision torchaudio --index-url https://download.pytorch.org/whl/cu118"
   ]
  },
  {
   "cell_type": "code",
   "execution_count": 2,
   "metadata": {},
   "outputs": [
    {
     "name": "stderr",
     "output_type": "stream",
     "text": [
      "Cloning into 'yolov5'...\n"
     ]
    }
   ],
   "source": [
    "#!git clone https://github.com/ultralytics/yolov5"
   ]
  },
  {
   "cell_type": "code",
   "execution_count": 2,
   "metadata": {},
   "outputs": [],
   "source": [
    "import torch\n",
    "from matplotlib import pyplot as plt  \n",
    "import numpy as np\n",
    "import cv2 as cv\n",
    "import uuid\n",
    "import os\n",
    "import time\n"
   ]
  },
  {
   "cell_type": "code",
   "execution_count": 3,
   "metadata": {},
   "outputs": [
    {
     "name": "stderr",
     "output_type": "stream",
     "text": [
      "Using cache found in C:\\Users\\kdelfino/.cache\\torch\\hub\\ultralytics_yolov5_master\n",
      "YOLOv5  2023-8-13 Python-3.9.15 torch-2.0.1+cpu CPU\n",
      "\n",
      "Fusing layers... \n",
      "YOLOv5s summary: 213 layers, 7225885 parameters, 0 gradients\n",
      "Adding AutoShape... \n"
     ]
    }
   ],
   "source": [
    "model = torch.hub.load('ultralytics/yolov5', 'yolov5s')"
   ]
  },
  {
   "cell_type": "markdown",
   "metadata": {},
   "source": [
    "## Twilio Setup"
   ]
  },
  {
   "cell_type": "code",
   "execution_count": 4,
   "metadata": {},
   "outputs": [],
   "source": [
    "import json"
   ]
  },
  {
   "cell_type": "code",
   "execution_count": 5,
   "metadata": {},
   "outputs": [
    {
     "data": {
      "text/plain": [
       "dict_keys(['client-id', 'Auth-Token'])"
      ]
     },
     "execution_count": 5,
     "metadata": {},
     "output_type": "execute_result"
    }
   ],
   "source": [
    "with open(r\"C:\\Users\\kdelfino\\.secret\\twilio_creds.json\", \"r\") as f:\n",
    "    login = json.load(f)\n",
    "\n",
    "# Display loaded dict \n",
    "login.keys()"
   ]
  },
  {
   "cell_type": "code",
   "execution_count": 6,
   "metadata": {},
   "outputs": [
    {
     "name": "stdout",
     "output_type": "stream",
     "text": [
      "SMfb1aeca6b8dc2cd33295703e890ed5f9\n"
     ]
    }
   ],
   "source": [
    "from twilio.rest import Client\n",
    "\n",
    "account_sid = login['client-id']\n",
    "auth_token = login['Auth-Token']\n",
    "client = Client(account_sid, auth_token)\n",
    "\n",
    "message = client.messages.create(\n",
    "  from_='+18773293012',\n",
    "  body = 'Hello world',\n",
    "  to='+17755269818'\n",
    ")\n",
    "\n",
    "print(message.sid)"
   ]
  },
  {
   "cell_type": "markdown",
   "metadata": {},
   "source": [
    "## Training The Model"
   ]
  },
  {
   "cell_type": "code",
   "execution_count": 20,
   "metadata": {},
   "outputs": [
    {
     "data": {
      "text/plain": [
       "[]"
      ]
     },
     "execution_count": 20,
     "metadata": {},
     "output_type": "execute_result"
    }
   ],
   "source": [
    "# example making new folder with os\n",
    "os.makedirs('Data/',exist_ok=True) \n",
    "# Confirm folder created\n",
    "os.listdir(\"Data/\")"
   ]
  },
  {
   "cell_type": "code",
   "execution_count": 50,
   "metadata": {},
   "outputs": [],
   "source": [
    "IMAGES_PATH = r\"C:\\Users\\kdelfino\\Documents\\GitHub\\Object_Detection\\object_detection\\Data\\images\"\n",
    "labels = ['kim','bottle', 'drinking']\n",
    "img_count = 10"
   ]
  },
  {
   "cell_type": "code",
   "execution_count": 51,
   "metadata": {},
   "outputs": [
    {
     "data": {
      "text/plain": [
       "'C:\\\\Users\\\\kdelfino\\\\Documents\\\\GitHub\\\\Object_Detection\\\\object_detection\\\\Data\\\\images'"
      ]
     },
     "execution_count": 51,
     "metadata": {},
     "output_type": "execute_result"
    }
   ],
   "source": [
    "IMAGES_PATH"
   ]
  },
  {
   "cell_type": "code",
   "execution_count": 52,
   "metadata": {},
   "outputs": [
    {
     "name": "stdout",
     "output_type": "stream",
     "text": [
      "Collecting images for kim\n",
      "Collecting images for kim #0\n",
      "Collecting images for kim #1\n",
      "Collecting images for kim #2\n",
      "Collecting images for kim #3\n",
      "Collecting images for kim #4\n",
      "Collecting images for kim #5\n",
      "Collecting images for kim #6\n",
      "Collecting images for kim #7\n",
      "Collecting images for kim #8\n",
      "Collecting images for kim #9\n",
      "Collecting images for bottle\n",
      "Collecting images for bottle #0\n",
      "Collecting images for bottle #1\n",
      "Collecting images for bottle #2\n",
      "Collecting images for bottle #3\n",
      "Collecting images for bottle #4\n",
      "Collecting images for bottle #5\n",
      "Collecting images for bottle #6\n",
      "Collecting images for bottle #7\n",
      "Collecting images for bottle #8\n",
      "Collecting images for bottle #9\n",
      "Collecting images for drinking\n",
      "Collecting images for drinking #0\n",
      "Collecting images for drinking #1\n",
      "Collecting images for drinking #2\n",
      "Collecting images for drinking #3\n",
      "Collecting images for drinking #4\n",
      "Collecting images for drinking #5\n",
      "Collecting images for drinking #6\n",
      "Collecting images for drinking #7\n",
      "Collecting images for drinking #8\n",
      "Collecting images for drinking #9\n"
     ]
    }
   ],
   "source": [
    "cap = cv.VideoCapture(1)\n",
    "\n",
    "# Loop through labels\n",
    "for label in labels:\n",
    "    print(f'Collecting images for {label}')\n",
    "    time.sleep(5)\n",
    "\n",
    "    # Loop through image range\n",
    "    for count in range(img_count):\n",
    "        print(f'Collecting images for {label} #{count}')\n",
    "\n",
    "        # Webcam feed\n",
    "        ret, frame = cap.read()\n",
    "\n",
    "        # Naming out image path\n",
    "        imgname = os.path.join(IMAGES_PATH, label+'.'+str(uuid.uuid1())+'.jpg')\n",
    "\n",
    "        # Writes out image to file\n",
    "        cv.imwrite(imgname, frame)\n",
    "        \n",
    "        # Render to the screen\n",
    "        cv.imshow('Image Collection', frame)\n",
    "\n",
    "        # 2 sec delay between captures\n",
    "        time.sleep(2)\n",
    "\n",
    "        if cv.waitKey(10) & 0xFF == ord('q'):\n",
    "            break\n",
    "cap.release()\n",
    "cv.destroyAllWindows()\n",
    "        \n"
   ]
  },
  {
   "cell_type": "code",
   "execution_count": 54,
   "metadata": {},
   "outputs": [
    {
     "name": "stdout",
     "output_type": "stream",
     "text": [
      "Collecting images for kim\n",
      "Collecting images for kim, image number 0\n",
      "C:\\Users\\kdelfino\\Documents\\GitHub\\Object_Detection\\object_detection\\Data\\images\\kim.f5904aae-3b26-11ee-85b2-701ab828e848.jpg\n",
      "Collecting images for kim, image number 1\n",
      "C:\\Users\\kdelfino\\Documents\\GitHub\\Object_Detection\\object_detection\\Data\\images\\kim.f5904aaf-3b26-11ee-8fb2-701ab828e848.jpg\n",
      "Collecting images for kim, image number 2\n",
      "C:\\Users\\kdelfino\\Documents\\GitHub\\Object_Detection\\object_detection\\Data\\images\\kim.f5904ab0-3b26-11ee-bd52-701ab828e848.jpg\n",
      "Collecting images for kim, image number 3\n",
      "C:\\Users\\kdelfino\\Documents\\GitHub\\Object_Detection\\object_detection\\Data\\images\\kim.f5904ab1-3b26-11ee-8a8c-701ab828e848.jpg\n",
      "Collecting images for kim, image number 4\n",
      "C:\\Users\\kdelfino\\Documents\\GitHub\\Object_Detection\\object_detection\\Data\\images\\kim.f5904ab2-3b26-11ee-8777-701ab828e848.jpg\n",
      "Collecting images for kim, image number 5\n",
      "C:\\Users\\kdelfino\\Documents\\GitHub\\Object_Detection\\object_detection\\Data\\images\\kim.f5904ab3-3b26-11ee-958b-701ab828e848.jpg\n",
      "Collecting images for kim, image number 6\n",
      "C:\\Users\\kdelfino\\Documents\\GitHub\\Object_Detection\\object_detection\\Data\\images\\kim.f5904ab4-3b26-11ee-9d1f-701ab828e848.jpg\n",
      "Collecting images for kim, image number 7\n",
      "C:\\Users\\kdelfino\\Documents\\GitHub\\Object_Detection\\object_detection\\Data\\images\\kim.f5904ab5-3b26-11ee-8e5f-701ab828e848.jpg\n",
      "Collecting images for kim, image number 8\n",
      "C:\\Users\\kdelfino\\Documents\\GitHub\\Object_Detection\\object_detection\\Data\\images\\kim.f5904ab6-3b26-11ee-a4c8-701ab828e848.jpg\n",
      "Collecting images for kim, image number 9\n",
      "C:\\Users\\kdelfino\\Documents\\GitHub\\Object_Detection\\object_detection\\Data\\images\\kim.f5904ab7-3b26-11ee-887b-701ab828e848.jpg\n",
      "Collecting images for bottle\n",
      "Collecting images for bottle, image number 0\n",
      "C:\\Users\\kdelfino\\Documents\\GitHub\\Object_Detection\\object_detection\\Data\\images\\bottle.f5904ab8-3b26-11ee-b700-701ab828e848.jpg\n",
      "Collecting images for bottle, image number 1\n",
      "C:\\Users\\kdelfino\\Documents\\GitHub\\Object_Detection\\object_detection\\Data\\images\\bottle.f5904ab9-3b26-11ee-92a2-701ab828e848.jpg\n",
      "Collecting images for bottle, image number 2\n",
      "C:\\Users\\kdelfino\\Documents\\GitHub\\Object_Detection\\object_detection\\Data\\images\\bottle.f5904aba-3b26-11ee-8d13-701ab828e848.jpg\n",
      "Collecting images for bottle, image number 3\n",
      "C:\\Users\\kdelfino\\Documents\\GitHub\\Object_Detection\\object_detection\\Data\\images\\bottle.f5904abb-3b26-11ee-baf6-701ab828e848.jpg\n",
      "Collecting images for bottle, image number 4\n",
      "C:\\Users\\kdelfino\\Documents\\GitHub\\Object_Detection\\object_detection\\Data\\images\\bottle.f5904abc-3b26-11ee-97ee-701ab828e848.jpg\n",
      "Collecting images for bottle, image number 5\n",
      "C:\\Users\\kdelfino\\Documents\\GitHub\\Object_Detection\\object_detection\\Data\\images\\bottle.f5904abd-3b26-11ee-bbce-701ab828e848.jpg\n",
      "Collecting images for bottle, image number 6\n",
      "C:\\Users\\kdelfino\\Documents\\GitHub\\Object_Detection\\object_detection\\Data\\images\\bottle.f5904abe-3b26-11ee-9982-701ab828e848.jpg\n",
      "Collecting images for bottle, image number 7\n",
      "C:\\Users\\kdelfino\\Documents\\GitHub\\Object_Detection\\object_detection\\Data\\images\\bottle.f5904abf-3b26-11ee-9c46-701ab828e848.jpg\n",
      "Collecting images for bottle, image number 8\n",
      "C:\\Users\\kdelfino\\Documents\\GitHub\\Object_Detection\\object_detection\\Data\\images\\bottle.f5904ac0-3b26-11ee-b0cc-701ab828e848.jpg\n",
      "Collecting images for bottle, image number 9\n",
      "C:\\Users\\kdelfino\\Documents\\GitHub\\Object_Detection\\object_detection\\Data\\images\\bottle.f5904ac1-3b26-11ee-8921-701ab828e848.jpg\n",
      "Collecting images for drinking\n",
      "Collecting images for drinking, image number 0\n",
      "C:\\Users\\kdelfino\\Documents\\GitHub\\Object_Detection\\object_detection\\Data\\images\\drinking.f5904ac2-3b26-11ee-8bc2-701ab828e848.jpg\n",
      "Collecting images for drinking, image number 1\n",
      "C:\\Users\\kdelfino\\Documents\\GitHub\\Object_Detection\\object_detection\\Data\\images\\drinking.f5904ac3-3b26-11ee-9a41-701ab828e848.jpg\n",
      "Collecting images for drinking, image number 2\n",
      "C:\\Users\\kdelfino\\Documents\\GitHub\\Object_Detection\\object_detection\\Data\\images\\drinking.f5904ac4-3b26-11ee-a4ad-701ab828e848.jpg\n",
      "Collecting images for drinking, image number 3\n",
      "C:\\Users\\kdelfino\\Documents\\GitHub\\Object_Detection\\object_detection\\Data\\images\\drinking.f5904ac5-3b26-11ee-a5ef-701ab828e848.jpg\n",
      "Collecting images for drinking, image number 4\n",
      "C:\\Users\\kdelfino\\Documents\\GitHub\\Object_Detection\\object_detection\\Data\\images\\drinking.f5904ac6-3b26-11ee-9795-701ab828e848.jpg\n",
      "Collecting images for drinking, image number 5\n",
      "C:\\Users\\kdelfino\\Documents\\GitHub\\Object_Detection\\object_detection\\Data\\images\\drinking.f5904ac7-3b26-11ee-9442-701ab828e848.jpg\n",
      "Collecting images for drinking, image number 6\n",
      "C:\\Users\\kdelfino\\Documents\\GitHub\\Object_Detection\\object_detection\\Data\\images\\drinking.f5904ac8-3b26-11ee-8e33-701ab828e848.jpg\n",
      "Collecting images for drinking, image number 7\n",
      "C:\\Users\\kdelfino\\Documents\\GitHub\\Object_Detection\\object_detection\\Data\\images\\drinking.f5904ac9-3b26-11ee-a3b1-701ab828e848.jpg\n",
      "Collecting images for drinking, image number 8\n",
      "C:\\Users\\kdelfino\\Documents\\GitHub\\Object_Detection\\object_detection\\Data\\images\\drinking.f5904aca-3b26-11ee-8ab9-701ab828e848.jpg\n",
      "Collecting images for drinking, image number 9\n",
      "C:\\Users\\kdelfino\\Documents\\GitHub\\Object_Detection\\object_detection\\Data\\images\\drinking.f5904acb-3b26-11ee-83a3-701ab828e848.jpg\n"
     ]
    }
   ],
   "source": [
    "for label in labels:\n",
    "    print('Collecting images for {}'.format(label))\n",
    "    for img_num in range(img_count):\n",
    "        print('Collecting images for {}, image number {}'.format(label, img_num))\n",
    "        imgname = os.path.join(IMAGES_PATH, label+'.'+str(uuid.uuid1())+'.jpg')\n",
    "        print(imgname)   "
   ]
  },
  {
   "cell_type": "code",
   "execution_count": 15,
   "metadata": {},
   "outputs": [
    {
     "name": "stderr",
     "output_type": "stream",
     "text": [
      "Cloning into 'labelImg'...\n"
     ]
    }
   ],
   "source": [
    "!git clone https://github.com/tzutalin/labelImg"
   ]
  },
  {
   "cell_type": "code",
   "execution_count": 56,
   "metadata": {},
   "outputs": [
    {
     "name": "stdout",
     "output_type": "stream",
     "text": [
      "Requirement already satisfied: pyqt5 in c:\\users\\kdelfino\\anaconda3\\envs\\dojo-env\\lib\\site-packages (5.15.9)\n",
      "Requirement already satisfied: lxml in c:\\users\\kdelfino\\anaconda3\\envs\\dojo-env\\lib\\site-packages (4.9.3)\n",
      "Requirement already satisfied: PyQt5-Qt5>=5.15.2 in c:\\users\\kdelfino\\anaconda3\\envs\\dojo-env\\lib\\site-packages (from pyqt5) (5.15.2)\n",
      "Requirement already satisfied: PyQt5-sip<13,>=12.11 in c:\\users\\kdelfino\\anaconda3\\envs\\dojo-env\\lib\\site-packages (from pyqt5) (12.11.0)\n"
     ]
    }
   ],
   "source": [
    "!pip install pyqt5 lxml --upgrade\n",
    "!cd labelImg && pyrcc5 -o libs/resources.py resources.qrc"
   ]
  },
  {
   "cell_type": "code",
   "execution_count": 63,
   "metadata": {},
   "outputs": [],
   "source": [
    "!cd yolov5 && python train.py --img 320 --batch 16 --epochs 500 --data dataset.yaml --weights yolov5s.pt --workers 2"
   ]
  },
  {
   "cell_type": "code",
   "execution_count": null,
   "metadata": {},
   "outputs": [],
   "source": [
    "cap = cv.VideoCapture(1)\n",
    "while cap.isOpened():\n",
    "    ret, frame = cap.read()\n",
    "\n",
    "    results = model(frame)\n",
    "\n",
    "    cv.imshow('YOLO', np.squeeze(results.render()))\n",
    "    \n",
    "\n",
    "    if cv.waitKey(10) & 0xFF == ord('q'):\n",
    "        break\n",
    "cap.release()\n",
    "cv.destroyAllWindows()"
   ]
  }
 ],
 "metadata": {
  "kernelspec": {
   "display_name": "dojo-env",
   "language": "python",
   "name": "python3"
  },
  "language_info": {
   "codemirror_mode": {
    "name": "ipython",
    "version": 3
   },
   "file_extension": ".py",
   "mimetype": "text/x-python",
   "name": "python",
   "nbconvert_exporter": "python",
   "pygments_lexer": "ipython3",
   "version": "3.9.15"
  },
  "orig_nbformat": 4
 },
 "nbformat": 4,
 "nbformat_minor": 2
}
